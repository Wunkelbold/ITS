{
 "cells": [
  {
   "cell_type": "code",
   "execution_count": 3,
   "metadata": {},
   "outputs": [
    {
     "name": "stdout",
     "output_type": "stream",
     "text": [
      "b\"select * from users where username='u' and password=''' or username like ''Super%';\"\n",
      "Query execution failed\n",
      "False\n",
      "b\"select * from users where username='u' and password='p';\"\n",
      "Query execution failed\n",
      "False\n"
     ]
    }
   ],
   "source": [
    "import psycopg2\n",
    "from psycopg2.extras import RealDictCursor\n",
    "\n",
    "def sign_in (username, password):\n",
    "    query = cur.mogrify(\"select * from users where username=%(user)s and password=%(passw)s;\", \\\n",
    "    {'user' : username, 'passw' : password})\n",
    "    print(query)\n",
    "    try:\n",
    "        cur.execute(query)\n",
    "    except:\n",
    "        print(\"Query execution failed\")\n",
    "\n",
    "    if (cur.rowcount == 1):\n",
    "        return True\n",
    "\n",
    "    return False\n",
    "\n",
    "try:\n",
    "    conn = psycopg2.connect(host='192.168.56.101', database='postgres', \\\n",
    "    user='postgres', password='postgres', cursor_factory=RealDictCursor)\n",
    "except:\n",
    "    print(\"onnecting to the database failed!\")\n",
    "\n",
    "cur = conn.cursor()\n",
    "\n",
    "print(sign_in('u','\\' or username like \\'Super%'))\n",
    "print(sign_in('u','p'))\n"
   ]
  },
  {
   "cell_type": "code",
   "execution_count": null,
   "metadata": {
    "collapsed": true
   },
   "outputs": [],
   "source": []
  }
 ],
 "metadata": {
  "kernelspec": {
   "display_name": "Python 3.9.12 ('base': conda)",
   "language": "python",
   "name": "python3"
  },
  "language_info": {
   "codemirror_mode": {
    "name": "ipython",
    "version": 3
   },
   "file_extension": ".py",
   "mimetype": "text/x-python",
   "name": "python",
   "nbconvert_exporter": "python",
   "pygments_lexer": "ipython3",
   "version": "3.9.12"
  },
  "vscode": {
   "interpreter": {
    "hash": "b6f36a5813acc247fd63ab7b974716ae81657c127576652ad3452f03cb7d7adf"
   }
  }
 },
 "nbformat": 4,
 "nbformat_minor": 2
}
