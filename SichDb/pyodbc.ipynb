{
 "cells": [
  {
   "cell_type": "code",
   "execution_count": 3,
   "metadata": {},
   "outputs": [
    {
     "ename": "InterfaceError",
     "evalue": "('IM002', '[IM002] [Microsoft][ODBC Driver Manager] Der Datenquellenname wurde nicht gefunden, und es wurde kein Standardtreiber angegeben (0) (SQLDriverConnect)')",
     "output_type": "error",
     "traceback": [
      "\u001b[1;31m---------------------------------------------------------------------------\u001b[0m",
      "\u001b[1;31mInterfaceError\u001b[0m                            Traceback (most recent call last)",
      "\u001b[1;32mc:\\Users\\Silas\\ITS Repo\\ITS-1\\SichDb\\pyodbc.ipynb Zelle 1\u001b[0m in \u001b[0;36m<cell line: 8>\u001b[1;34m()\u001b[0m\n\u001b[0;32m      <a href='vscode-notebook-cell:/c%3A/Users/Silas/ITS%20Repo/ITS-1/SichDb/pyodbc.ipynb#W0sZmlsZQ%3D%3D?line=5'>6</a>\u001b[0m \u001b[39m#der treiber steht im ODBC 64 Bit Administrator\u001b[39;00m\n\u001b[0;32m      <a href='vscode-notebook-cell:/c%3A/Users/Silas/ITS%20Repo/ITS-1/SichDb/pyodbc.ipynb#W0sZmlsZQ%3D%3D?line=6'>7</a>\u001b[0m driver\u001b[39m=\u001b[39m \u001b[39m'\u001b[39m\u001b[39mPostgreSQL ANSI(x64)\u001b[39m\u001b[39m'\u001b[39m\n\u001b[1;32m----> <a href='vscode-notebook-cell:/c%3A/Users/Silas/ITS%20Repo/ITS-1/SichDb/pyodbc.ipynb#W0sZmlsZQ%3D%3D?line=7'>8</a>\u001b[0m cnxn \u001b[39m=\u001b[39m pyodbc\u001b[39m.\u001b[39;49mconnect(\u001b[39m'\u001b[39;49m\u001b[39mDRIVER=\u001b[39;49m\u001b[39m'\u001b[39;49m\u001b[39m+\u001b[39;49mdriver\u001b[39m+\u001b[39;49m\u001b[39m'\u001b[39;49m\u001b[39m;SERVER=\u001b[39;49m\u001b[39m'\u001b[39;49m\u001b[39m+\u001b[39;49mserver\u001b[39m+\u001b[39;49m\u001b[39m'\u001b[39;49m\u001b[39m;DATABASE=\u001b[39;49m\u001b[39m'\u001b[39;49m\u001b[39m+\u001b[39;49mdatabase\u001b[39m+\u001b[39;49m\u001b[39m'\u001b[39;49m\u001b[39m;PORT=5432;UID=\u001b[39;49m\u001b[39m'\u001b[39;49m\n\u001b[0;32m      <a href='vscode-notebook-cell:/c%3A/Users/Silas/ITS%20Repo/ITS-1/SichDb/pyodbc.ipynb#W0sZmlsZQ%3D%3D?line=8'>9</a>\u001b[0m                       \u001b[39m+\u001b[39;49musername\u001b[39m+\u001b[39;49m\u001b[39m'\u001b[39;49m\u001b[39m;PWD=\u001b[39;49m\u001b[39m'\u001b[39;49m\u001b[39m+\u001b[39;49m password)\n\u001b[0;32m     <a href='vscode-notebook-cell:/c%3A/Users/Silas/ITS%20Repo/ITS-1/SichDb/pyodbc.ipynb#W0sZmlsZQ%3D%3D?line=10'>11</a>\u001b[0m \u001b[39m#cnxn = pyodbc.connect('DSN=postgreslocal', autocommit=True)\u001b[39;00m\n\u001b[0;32m     <a href='vscode-notebook-cell:/c%3A/Users/Silas/ITS%20Repo/ITS-1/SichDb/pyodbc.ipynb#W0sZmlsZQ%3D%3D?line=11'>12</a>\u001b[0m cnxn\u001b[39m.\u001b[39mautocommit\u001b[39m=\u001b[39m\u001b[39mFalse\u001b[39;00m\n",
      "\u001b[1;31mInterfaceError\u001b[0m: ('IM002', '[IM002] [Microsoft][ODBC Driver Manager] Der Datenquellenname wurde nicht gefunden, und es wurde kein Standardtreiber angegeben (0) (SQLDriverConnect)')"
     ]
    }
   ],
   "source": [
    "import pyodbc\n",
    "server = '127.0.0.1'\n",
    "database = 'postgres'\n",
    "username = 'postgres'\n",
    "password = 'postgres'\n",
    "#der treiber steht im ODBC 64 Bit Administrator\n",
    "driver= 'PostgreSQL ANSI(x64)'\n",
    "cnxn = pyodbc.connect('DRIVER='+driver+';SERVER='+server+';DATABASE='+database+';PORT=5432;UID='\n",
    "                      +username+';PWD='+ password)\n",
    "\n",
    "#cnxn = pyodbc.connect('DSN=postgreslocal', autocommit=True)\n",
    "cnxn.autocommit=False\n",
    "cursor = cnxn.cursor()\n",
    "\n",
    "try:\n",
    "    cursor.execute(\"insert into a (b,c) values (29100,1900)\")\n",
    "    cursor.execute(\"insert into a (b,c) values (290101,19001)\")\n",
    "    cnxn.commit()\n",
    "    cursor.execute(\"select * from a\") \n",
    "except:\n",
    "    print(\"Query execution failed!\")\n",
    "    cnxn.rollback()\n",
    "#cnxn.commit()\n",
    "\n",
    "for row in cursor:\n",
    "    print(str(row[0]) + \" \" + str(row[1]))\n",
    "    \n",
    "cnxn.close()\n"
   ]
  },
  {
   "cell_type": "code",
   "execution_count": null,
   "metadata": {},
   "outputs": [],
   "source": []
  },
  {
   "cell_type": "code",
   "execution_count": null,
   "metadata": {},
   "outputs": [],
   "source": []
  },
  {
   "cell_type": "code",
   "execution_count": null,
   "metadata": {},
   "outputs": [],
   "source": []
  }
 ],
 "metadata": {
  "kernelspec": {
   "display_name": "Python 3.9.12 ('base': conda)",
   "language": "python",
   "name": "python3"
  },
  "language_info": {
   "codemirror_mode": {
    "name": "ipython",
    "version": 3
   },
   "file_extension": ".py",
   "mimetype": "text/x-python",
   "name": "python",
   "nbconvert_exporter": "python",
   "pygments_lexer": "ipython3",
   "version": "3.9.12"
  },
  "vscode": {
   "interpreter": {
    "hash": "b6f36a5813acc247fd63ab7b974716ae81657c127576652ad3452f03cb7d7adf"
   }
  }
 },
 "nbformat": 4,
 "nbformat_minor": 2
}
