{
 "cells": [
  {
   "cell_type": "code",
   "execution_count": 2,
   "metadata": {},
   "outputs": [
    {
     "data": {
      "text/plain": [
       "[RealDictRow([('b', 800), ('c', 800)]),\n",
       " RealDictRow([('b', 8001), ('c', 8001)]),\n",
       " RealDictRow([('b', 800), ('c', 800)]),\n",
       " RealDictRow([('b', 8001), ('c', 8001)])]"
      ]
     },
     "execution_count": 2,
     "metadata": {},
     "output_type": "execute_result"
    }
   ],
   "source": [
    "import psycopg2\n",
    "from psycopg2.extras import RealDictCursor\n",
    "\n",
    "try:\n",
    " conn = psycopg2.connect(host='localhost', database='postgres', \\\n",
    " user='postgres', password='parsec24', cursor_factory=RealDictCursor, port=5433)\n",
    "except:\n",
    " print(\"connecting to the database failed!\")\n",
    "conn.autocommit=False\n",
    "cur = conn.cursor()\n",
    "\n",
    "try:\n",
    " cur.execute(\"insert into a (b,c) values (800,800)\")\n",
    " cur.execute(\"insert into a (b,c) values (8001,8001)\")\n",
    " cur.execute(\"select * from a where b in (800,8001)\")  \n",
    " conn.commit()\n",
    "except:\n",
    " print(\"Query execution failed!\")\n",
    " conn.rollback()\n",
    "    \n",
    "res=cur.fetchall();\n",
    "\n",
    "# close database cursor and database connection\n",
    "cur.close()\n",
    "conn.close();\n",
    "res"
   ]
  },
  {
   "cell_type": "code",
   "execution_count": null,
   "metadata": {},
   "outputs": [],
   "source": []
  },
  {
   "cell_type": "code",
   "execution_count": null,
   "metadata": {},
   "outputs": [],
   "source": []
  },
  {
   "cell_type": "code",
   "execution_count": null,
   "metadata": {},
   "outputs": [],
   "source": []
  },
  {
   "cell_type": "code",
   "execution_count": null,
   "metadata": {},
   "outputs": [],
   "source": []
  }
 ],
 "metadata": {
  "kernelspec": {
   "display_name": "Python 3.9.12 ('base': conda)",
   "language": "python",
   "name": "python3"
  },
  "language_info": {
   "codemirror_mode": {
    "name": "ipython",
    "version": 3
   },
   "file_extension": ".py",
   "mimetype": "text/x-python",
   "name": "python",
   "nbconvert_exporter": "python",
   "pygments_lexer": "ipython3",
   "version": "3.9.12"
  },
  "vscode": {
   "interpreter": {
    "hash": "b6f36a5813acc247fd63ab7b974716ae81657c127576652ad3452f03cb7d7adf"
   }
  }
 },
 "nbformat": 4,
 "nbformat_minor": 2
}
