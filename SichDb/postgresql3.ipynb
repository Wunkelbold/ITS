{
 "cells": [
  {
   "cell_type": "code",
   "execution_count": 2,
   "metadata": {},
   "outputs": [
    {
     "name": "stdout",
     "output_type": "stream",
     "text": [
      "b\"select * from airport  where iatacode='SLA' and name='Salta'\"\n",
      "[RealDictRow([('iatacode', 'SLA'), ('name', 'Salta'), ('country', 'RA'), ('city', 'Salta'), ('province', 'Salta'), ('island', None), ('latitude', Decimal('-24.855978')), ('longitude', Decimal('-65.486169')), ('elevation', Decimal('1246')), ('gmtoffset', Decimal('-3'))])]\n",
      "b\"select * from economy where country like 'R%'  and service > 20\"\n"
     ]
    }
   ],
   "source": [
    "import psycopg2\n",
    "import pandas as pd\n",
    "from psycopg2.extras import RealDictCursor\n",
    "\n",
    "try:\n",
    "    conn = psycopg2.connect(host='192.168.56.101', database='postgres', \\\n",
    "     user='postgres', password='postgres', port=5432, cursor_factory=RealDictCursor)\n",
    "except:\n",
    "    print(\"onnecting to the database failed!\")\n",
    "\n",
    "cur = conn.cursor()\n",
    "# Query selber aufbauen\n",
    "# query  =   \"  SELCT * FROM airport where iatacode='\" + s + \"  'and name='Salta'   \" anfällig für SQL Injection\n",
    "# Prepared Statements sind die sicherere Variante um das zu verhindern\n",
    "\n",
    "# SELECT * FROM economy WHERE country = ’D’;\n",
    "query=cur.mogrify(\"select * from airport  where iatacode=%(iata)s and name=%(name)s\", {'iata':'SLA','name':'Salta'})\n",
    "print(query)\n",
    "try:\n",
    "    cur.execute(query)\n",
    "except:\n",
    "    print(\"Query execution failed\")\n",
    "\n",
    "try:\n",
    "    res = cur.fetchall()\n",
    "except:\n",
    "    print(\"Something went wrong\")\n",
    "print(res)\n",
    "\n",
    " # SELECT * FROM economy WHERE country = ’D’ AND service > 20;\n",
    "print(cur.mogrify(\"select * from economy where country like %s  and service > %s\",  (\"R%\", 20)))"
   ]
  },
  {
   "cell_type": "code",
   "execution_count": null,
   "metadata": {
    "collapsed": true
   },
   "outputs": [],
   "source": []
  }
 ],
 "metadata": {
  "kernelspec": {
   "display_name": "Python 3.9.12 ('base': conda)",
   "language": "python",
   "name": "python3"
  },
  "language_info": {
   "codemirror_mode": {
    "name": "ipython",
    "version": 3
   },
   "file_extension": ".py",
   "mimetype": "text/x-python",
   "name": "python",
   "nbconvert_exporter": "python",
   "pygments_lexer": "ipython3",
   "version": "3.9.12"
  },
  "vscode": {
   "interpreter": {
    "hash": "b6f36a5813acc247fd63ab7b974716ae81657c127576652ad3452f03cb7d7adf"
   }
  }
 },
 "nbformat": 4,
 "nbformat_minor": 2
}
