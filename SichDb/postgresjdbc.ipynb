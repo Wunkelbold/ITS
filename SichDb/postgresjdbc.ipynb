{
 "cells": [
  {
   "cell_type": "code",
   "execution_count": 10,
   "metadata": {},
   "outputs": [
    {
     "name": "stdout",
     "output_type": "stream",
     "text": [
      "Requirement already satisfied: JayDeBeApi in c:\\programdata\\anaconda3\\lib\\site-packages (1.2.3)Note: you may need to restart the kernel to use updated packages.\n",
      "\n",
      "Requirement already satisfied: JPype1; python_version > \"2.7\" and platform_python_implementation != \"Jython\" in c:\\programdata\\anaconda3\\lib\\site-packages (from JayDeBeApi) (1.3.0)\n"
     ]
    }
   ],
   "source": [
    "pip install JayDeBeApi"
   ]
  },
  {
   "cell_type": "markdown",
   "metadata": {},
   "source": [
    "<font size=\"4pt\">\n",
    "<b>Achtung: Es muss die Umgebungsvariable JAVA_HOME gesetzt sein auf eine 64-Bitt JAVA-Installation\n",
    "Eine 64-Bit Java-Version kann geladen werden von: </b>\n",
    "    \n",
    "https://www.java.com/de/download/manual.jsp"
   ]
  },
  {
   "cell_type": "code",
   "execution_count": 11,
   "metadata": {},
   "outputs": [
    {
     "name": "stdout",
     "output_type": "stream",
     "text": [
      "env: JAVA_HOME=C:\\Program Files (x86)\\Java\\jdk1.8.0_251\n"
     ]
    }
   ],
   "source": [
    "%set_env JAVA_HOME=C:\\Program Files (x86)\\Java\\jdk1.8.0_251"
   ]
  },
  {
   "cell_type": "code",
   "execution_count": 1,
   "metadata": {},
   "outputs": [
    {
     "name": "stdout",
     "output_type": "stream",
     "text": [
      "     einwohnerzahl country\n",
      "0        1313762.0      DK\n",
      "1         922830.0     WAL\n",
      "2        5304757.0     UAE\n",
      "3        3614246.0      SN\n",
      "4        1760238.0       N\n",
      "..             ...     ...\n",
      "239      1335704.0      MW\n",
      "240      2776819.0       A\n",
      "241     47137170.0     MEX\n",
      "242       131719.0      CV\n",
      "243      5184845.0     ETH\n",
      "\n",
      "[244 rows x 2 columns]\n"
     ]
    },
    {
     "data": {
      "text/plain": [
       "<AxesSubplot:title={'center':'Einwohnerzahl'}, xlabel='country'>"
      ]
     },
     "execution_count": 1,
     "metadata": {},
     "output_type": "execute_result"
    },
    {
     "data": {
      "image/png": "[encoded data removed]",
      "text/plain": [
       "<Figure size 432x288 with 1 Axes>"
      ]
     },
     "metadata": {
      "needs_background": "light"
     },
     "output_type": "display_data"
    }
   ],
   "source": [
    "import json\n",
    "import datetime\n",
    "import pandas\n",
    "\n",
    "import jaydebeapi\n",
    "cnxn = jaydebeapi.connect(\"org.postgresql.Driver\",\n",
    "                          \"jdbc:postgresql://localhost:5433/mondialdb\",\n",
    "                           [\"postgres\", \"parsec24\"],\n",
    "                           \"d:/postgresql-42.2.16.jar\"\n",
    "                         )\n",
    "\n",
    "sql=\"select sum(population) as einwohnerzahl,country from city group by country\"\n",
    "data = pandas.read_sql(sql,cnxn)\n",
    "print(data) \n",
    "data.plot(x='country', y= 'einwohnerzahl', title=\"Einwohnerzahl\")"
   ]
  },
  {
   "cell_type": "code",
   "execution_count": null,
   "metadata": {},
   "outputs": [],
   "source": []
  },
  {
   "cell_type": "code",
   "execution_count": null,
   "metadata": {},
   "outputs": [],
   "source": []
  },
  {
   "cell_type": "code",
   "execution_count": null,
   "metadata": {},
   "outputs": [],
   "source": []
  },
  {
   "cell_type": "code",
   "execution_count": null,
   "metadata": {},
   "outputs": [],
   "source": []
  }
 ],
 "metadata": {
  "kernelspec": {
   "display_name": "Python 3.9.12 ('base': conda)",
   "language": "python",
   "name": "python3"
  },
  "language_info": {
   "codemirror_mode": {
    "name": "ipython",
    "version": 3
   },
   "file_extension": ".py",
   "mimetype": "text/x-python",
   "name": "python",
   "nbconvert_exporter": "python",
   "pygments_lexer": "ipython3",
   "version": "3.9.12"
  },
  "vscode": {
   "interpreter": {
    "hash": "b6f36a5813acc247fd63ab7b974716ae81657c127576652ad3452f03cb7d7adf"
   }
  }
 },
 "nbformat": 4,
 "nbformat_minor": 2
}
