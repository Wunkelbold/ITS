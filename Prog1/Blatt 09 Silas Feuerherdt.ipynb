{
 "cells": [
  {
   "cell_type": "code",
   "execution_count": 3,
   "metadata": {},
   "outputs": [],
   "source": [
    "import random\n",
    "#Aufgabe 9.0 a)\n",
    "def create10():\n",
    "    ran10=[]\n",
    "    for i in range(0,22):\n",
    "        ran10.append(random.randint(1,6))\n",
    "    return ran10\n",
    "\n",
    "#Aufgabe b)\n",
    "def test100k():\n",
    "    durchlauf=[]\n",
    "    prob=0\n",
    "    for i in range(100001):\n",
    "        durchlauf=create10()\n",
    "        if 1 not in durchlauf:\n",
    "            prob+=1\n",
    "    return \n",
    "\n",
    "    \n"
   ]
  }
 ],
 "metadata": {
  "kernelspec": {
   "display_name": "Python 3.9.12 ('base': conda)",
   "language": "python",
   "name": "python3"
  },
  "language_info": {
   "codemirror_mode": {
    "name": "ipython",
    "version": 3
   },
   "file_extension": ".py",
   "mimetype": "text/x-python",
   "name": "python",
   "nbconvert_exporter": "python",
   "pygments_lexer": "ipython3",
   "version": "3.9.12"
  },
  "orig_nbformat": 4,
  "vscode": {
   "interpreter": {
    "hash": "b6f36a5813acc247fd63ab7b974716ae81657c127576652ad3452f03cb7d7adf"
   }
  }
 },
 "nbformat": 4,
 "nbformat_minor": 2
}
