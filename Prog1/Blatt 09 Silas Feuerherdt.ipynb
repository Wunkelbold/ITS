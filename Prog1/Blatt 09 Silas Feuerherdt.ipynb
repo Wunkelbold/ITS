{
 "cells": [
  {
   "cell_type": "code",
   "execution_count": null,
   "metadata": {},
   "outputs": [],
   "source": [
    "import random\n",
    "#Aufgabe 9.0 a)\n",
    "print(list(random.randint(1,6) for x in range(10)))\n",
    "#Aufgabe 9.0 b)\n",
    "print(sum([sum([1 if 1 not in list(random.randint(1,6) for x in range(10)) else 0 ]) for x in range(100001)])/100000)\n",
    "# 1 if 1 not int --> füge den Fall 1 hinzu, wenn die 1 nicht in der generierten Liste ist\n",
    "# (list(random.randint(1,6) for x in range(10))) ergibt diese Liste [3, 5, 6, 5, 4, 6, 4, 3, 1, 3] \n",
    "# der Fall eins wird als Liste zurückgegeben, for x in range(100001)\n",
    "# erstes sum() macht aus [1] eine eins und zweites sum addiert die Liste mit 100k einträgen von einsen und nullen\n",
    "# teilen am Ende durch 100k ergibt Wahrscheinlichkeit\n",
    "\n",
    "#Aufgabe 9.0 c)\n",
    "print(sum([sum([1 if list(random.randint(1,6) for x in range(10)).count(1)==3 else 0 ]) for x in range(100001)])/100000)\n"
   ]
  },
  {
   "cell_type": "code",
   "execution_count": 35,
   "metadata": {},
   "outputs": [
    {
     "data": {
      "text/plain": [
       "32"
      ]
     },
     "execution_count": 35,
     "metadata": {},
     "output_type": "execute_result"
    }
   ],
   "source": [
    "#Aufgabe 9.1 a)\n",
    "import matplotlib.pyplot as plt\n",
    "import numpy as np\n",
    "import math\n",
    "\n",
    "def teiler(a):\n",
    "    return [y for y in range(1,a+1) if (a%y==0)]\n",
    "\n",
    "#teiler(45)\n",
    "\n",
    "#Aufgabe 9.1 b)\n",
    "#list([x for x in range (1,1001) if len(teiler(x))==8])\n",
    "\n",
    "#Aufgabe 9.1 c)\n",
    "#[x for x in range(1,1001) if (max([len(teiler(x)) for x in range(1,1001)]))==max([len(teiler(x)) for x in range(1,1001)])]\n",
    "\n",
    "max([len(teiler(x)) for x in range(1,1001)])\n",
    "\n",
    "\n",
    "\n",
    "\n",
    "\n",
    "\n",
    "\n"
   ]
  },
  {
   "cell_type": "code",
   "execution_count": 10,
   "metadata": {},
   "outputs": [
    {
     "data": {
      "text/plain": [
       "[1, 3, 9, 27, 37, 111, 333, 999]"
      ]
     },
     "execution_count": 10,
     "metadata": {},
     "output_type": "execute_result"
    }
   ],
   "source": [
    "teiler(45)\n"
   ]
  },
  {
   "cell_type": "code",
   "execution_count": null,
   "metadata": {},
   "outputs": [],
   "source": [
    "\n",
    "\"\"\"\"\n",
    "#Aufgabe \n",
    "\n",
    "#Aufgabe 9.0 d)\n",
    "\n",
    "fig, (ax1,ax2) = plt.subplots(1,5,figsize=(10,5))\n",
    "\n",
    "\n",
    "ax1.set_xticks(np.arange(0, 10001))\n",
    "ax1.set_yticks(np.arange(0, 201))\n",
    "ax2.set_xticks(np.arange(0, 11, 2))\n",
    "ax2.set_yticks(np.arange(0, 11, 2))\n",
    "\n",
    "\n",
    "\n",
    "ax1.scatter([0,1,2,3,4,5,6,7,8,9,10],[0,1,2,3,4,5,6,7,8,9,10])\n",
    "ax2.scatter([0,1,2,3,4,5,6,7,8,9,10],[10,9,8,7,6,5,4,3,2,1,0])\n",
    "\n",
    "ax3.scatter([-10,-9,-8,-7,-6,-5,-4,-3,-2,-1,0,1,2,3,4,5,6,7,8,9,10],[-6,-6,-6,-6,-6,-6,-6,-6,-6,-6,-6,-6,-6,-6,-6,-6,-6,-6,-6,-6,-6])\n",
    "ax3.scatter([-10,-9,-8,-7,-6,-5,-4,-3,-2,-1,0,1,2,3,4,5,6,7,8,9,10],[6,6,6,6,6,6,6,6,6,6,6,6,6,6,6,6,6,6,6,6,6])\n",
    "ax3.scatter([-10,-10,-10,-10,-10,-10,-10,-10,-10,-10,-10,-10,-10],[-6,-5,-4,-3,-2,-1,0,1,2,3,4,5,6])\n",
    "ax3.scatter([10,10,10,10,10,10,10,10,10,10,10,10,10],[-6,-5,-4,-3,-2,-1,0,1,2,3,4,5,6])\n",
    "\n",
    "for x1 in range(-10,10):\n",
    "    x2 =(100-x1**2)**0.5\n",
    "    ax4.scatter(x1,x2)\n",
    "\n",
    "for x1 in range(-10,10):\n",
    "    x2 =-(100-x1**2)**0.5\n",
    "    ax4.scatter(x1,x2)\n",
    "\n",
    "for z in range(-10,10):\n",
    "    \n",
    "    ax5.scatter(math.sin(z*2*math.pi/36)*10,math.cos(z*2*math.pi/36)*10,c=\"blue\")\n",
    "\n",
    "\n",
    "for z in range(-10,10):\n",
    "    \n",
    "    ax5.scatter(-math.sin(z*2*math.pi/36)*10,-math.cos(z*2*math.pi/36)*10,c=\"blue\")\n",
    "\"\"\""
   ]
  }
 ],
 "metadata": {
  "kernelspec": {
   "display_name": "Python 3.9.12 ('base': conda)",
   "language": "python",
   "name": "python3"
  },
  "language_info": {
   "codemirror_mode": {
    "name": "ipython",
    "version": 3
   },
   "file_extension": ".py",
   "mimetype": "text/x-python",
   "name": "python",
   "nbconvert_exporter": "python",
   "pygments_lexer": "ipython3",
   "version": "3.9.12"
  },
  "orig_nbformat": 4,
  "vscode": {
   "interpreter": {
    "hash": "b6f36a5813acc247fd63ab7b974716ae81657c127576652ad3452f03cb7d7adf"
   }
  }
 },
 "nbformat": 4,
 "nbformat_minor": 2
}
