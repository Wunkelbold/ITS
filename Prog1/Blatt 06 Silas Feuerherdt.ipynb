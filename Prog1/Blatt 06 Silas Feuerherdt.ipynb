{
 "cells": [
  {
   "cell_type": "code",
   "execution_count": 64,
   "metadata": {},
   "outputs": [],
   "source": [
    "# Aufgabe 6.0\n",
    "class Stack:\n",
    "    def __init__(self):\n",
    "        self.st=[]\n",
    "    \n",
    "    def __repr__(self):\n",
    "        s=str(self.st)\n",
    "        return s\n",
    "#Aufgabe 6.0 a)\n",
    "    def __push__(self,assBefehl):\n",
    "        self.st.append(assBefehl)\n",
    "#Aufgabe 6.0 b)\n",
    "    def __pop__(self):\n",
    "        oberste=self.st[-1]\n",
    "        self.st=self.st[0:-1]\n",
    "        return oberste\n",
    "\n",
    "#Aufgabe 6.0 c)\n",
    "    def __len__(self):\n",
    "        return len(self.st)\n",
    "\n",
    "#Aufgabe 6.0 d)\n",
    "    def toList(self):\n",
    "        return self.st\n",
    "\n",
    "#Aufgabe 6.0 e)\n",
    "    def multPop(self,n):\n",
    "        temp=[]\n",
    "        for i in range(1,n+1):\n",
    "            temp.append(self.st[-i])   \n",
    "        self.st=self.st[0:-n]    \n",
    "        return temp"
   ]
  },
  {
   "cell_type": "code",
   "execution_count": 88,
   "metadata": {},
   "outputs": [],
   "source": [
    "stack = Stack()\n",
    "stack.__push__(3)\n",
    "stack.__push__(4)\n",
    "stack.__push__(7)\n",
    "stack.__push__(\"Hallo\")\n",
    "stack.__push__(\"Nani\")\n",
    "#stack.multPop(3)\n",
    "#stack.__pop__()\n",
    "#stack\n",
    "#stack.__len__()"
   ]
  },
  {
   "cell_type": "code",
   "execution_count": 132,
   "metadata": {},
   "outputs": [],
   "source": [
    "#Aufgabe 6.1\n",
    "\n",
    "\n",
    "class AM:\n",
    "    def __init__(self):\n",
    "        self.aufgabenDict={}\n",
    "    def __repr__(self):\n",
    "        return self.aufgabenDict.items()\n",
    "    \n",
    "#Aufgabe 6.1 a)\n",
    "    def neueAufgabe(self,aufgabeString,prioInt):\n",
    "            if prioInt not in self.aufgabenDict:     #sollte die Priorität noch nicht als Key existieren\n",
    "                self.aufgabenDict[prioInt] = Stack()  #erstelle neue Prioirität inkl Stack\n",
    "                self.aufgabenDict[prioInt].__push__(aufgabeString)   #und pushe die Aufgabe auf den Stack \n",
    "            else:\n",
    "                self.aufgabenDict[prioInt].__push__(aufgabeString)\n",
    "\n",
    "#Aufgaben 6.1 b)\n",
    "    def hoechstePrio(self):\n",
    "        ergebnis = sorted(list(self.aufgabenDict.keys()))\n",
    "        return ergebnis[0] #0 falls höchste Prio = 1 und -1 falls andersrum\n",
    "\n",
    "#Aufgaben 6.1 c)\n",
    "    def erledigeNaechsteAufgabe(self):\n",
    "        print(f\"{self.aufgabenDict[self.hoechstePrio()].__pop__()} wurde erledigt\")\n",
    "\n",
    "#Aufgaben 6.1 d)\n",
    "    def alleAufgabenMitPrio(self,prioritaet):\n",
    "        if prioritaet in list(self.aufgabenDict.keys()):\n",
    "            return list(self.aufgabenDict[prioritaet].st)\n",
    "        else:\n",
    "            return []\n",
    "\n",
    "#Afgabe 6.1 e)\n",
    "    def allePrios(self):\n",
    "        return list(self.aufgabenDict.keys())\n",
    "\n",
    "#Afgabe 6.1 f)\n",
    "    def anzahlAufgabenPrio(self,prioritaet):\n",
    "        if prioritaet in list(self.aufgabenDict.keys()):\n",
    "            return len(self.aufgabenDict[prioritaet].st)\n",
    "        else:\n",
    "            return f\"Keine Aufgaben mit dieser Priorität\"\n",
    "        \n",
    "\n",
    "\n",
    "#Afgabe 6.1 g)\n",
    "    def anzahlAufgaben(self):\n",
    "        counter=0\n",
    "        for i in self.aufgabenDict:\n",
    "            counter+=len(self.aufgabenDict[i].st) # oder self.Dictionary.get(i).st\n",
    "        return counter\n"
   ]
  },
  {
   "cell_type": "code",
   "execution_count": 148,
   "metadata": {},
   "outputs": [
    {
     "data": {
      "text/plain": [
       "6"
      ]
     },
     "execution_count": 148,
     "metadata": {},
     "output_type": "execute_result"
    }
   ],
   "source": [
    "am = AM()\n",
    "\n",
    "#Aufgabe 6.1 a)\n",
    "am.neueAufgabe(\"a1\",1)\n",
    "am.neueAufgabe(\"a2\",2)\n",
    "am.neueAufgabe(\"a3\",3)\n",
    "am.neueAufgabe(\"a4\",1)\n",
    "am.neueAufgabe(\"a5\",2)\n",
    "am.neueAufgabe(\"a6\",1)\n",
    "\n",
    "#am.aufgabenDict[1]\n",
    "\n",
    "#Aufgabe 6.1 b)\n",
    "#am.hoechstePrio()\n",
    "\n",
    "#Aufgabe 6.1 c)\n",
    "#am.erledigeNaechsteAufgabe()\n",
    "\n",
    "#Aufgabe 6.1 d)\n",
    "#am.alleAufgabenMitPrio(2)\n",
    "#am.alleAufgabenMitPrio(2)\n",
    "\n",
    "#Aufgabe 6.1 e)\n",
    "#am.allePrios()\n",
    "\n",
    "#Aufgabe 6.1 f)\n",
    "#am.anzahlAufgabenPrio(4)\n",
    "\n",
    "#Aufgabe 6.1 g)\n",
    "#am.anzahlAufgaben()\n",
    "\n",
    "\n",
    "\n",
    "#am.aufgabenDict\n"
   ]
  }
 ],
 "metadata": {
  "kernelspec": {
   "display_name": "Python 3.9.12 ('base': conda)",
   "language": "python",
   "name": "python3"
  },
  "language_info": {
   "codemirror_mode": {
    "name": "ipython",
    "version": 3
   },
   "file_extension": ".py",
   "mimetype": "text/x-python",
   "name": "python",
   "nbconvert_exporter": "python",
   "pygments_lexer": "ipython3",
   "version": "3.9.12"
  },
  "orig_nbformat": 4,
  "vscode": {
   "interpreter": {
    "hash": "b6f36a5813acc247fd63ab7b974716ae81657c127576652ad3452f03cb7d7adf"
   }
  }
 },
 "nbformat": 4,
 "nbformat_minor": 2
}
