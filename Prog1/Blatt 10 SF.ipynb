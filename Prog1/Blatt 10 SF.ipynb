{
 "cells": [
  {
   "cell_type": "code",
   "execution_count": 40,
   "metadata": {},
   "outputs": [
    {
     "name": "stdout",
     "output_type": "stream",
     "text": [
      "(1, 10, 'a', 'b', [1], [2])\n"
     ]
    }
   ],
   "source": [
    "#Aufgabe 10 a)\n",
    "import functools\n",
    "liste=[(1,10),('a','b'),([1],[2])]\n",
    "#output [1,10,'a','b',[1],[2]]\n",
    "\n",
    "\n",
    "print(list(functools.reduce(lambda a,b : a+b,liste)))\n"
   ]
  },
  {
   "cell_type": "code",
   "execution_count": 42,
   "metadata": {},
   "outputs": [
    {
     "ename": "TypeError",
     "evalue": "reduce expected at least 2 arguments, got 1",
     "output_type": "error",
     "traceback": [
      "\u001b[1;31m---------------------------------------------------------------------------\u001b[0m",
      "\u001b[1;31mTypeError\u001b[0m                                 Traceback (most recent call last)",
      "\u001b[1;32mc:\\Users\\Silas\\ITS Repo\\ITS-1\\Prog1\\Blatt 10 SF.ipynb Zelle 2\u001b[0m in \u001b[0;36m<cell line: 10>\u001b[1;34m()\u001b[0m\n\u001b[0;32m      <a href='vscode-notebook-cell:/c%3A/Users/Silas/ITS%20Repo/ITS-1/Prog1/Blatt%2010%20SF.ipynb#W3sZmlsZQ%3D%3D?line=5'>6</a>\u001b[0m             lst\u001b[39m.\u001b[39mremove(i)\n\u001b[0;32m      <a href='vscode-notebook-cell:/c%3A/Users/Silas/ITS%20Repo/ITS-1/Prog1/Blatt%2010%20SF.ipynb#W3sZmlsZQ%3D%3D?line=7'>8</a>\u001b[0m     \u001b[39mprint\u001b[39m(functools\u001b[39m.\u001b[39mreduce(\u001b[39mlambda\u001b[39;00m a,b : a \u001b[39mif\u001b[39;00m a\u001b[39m>\u001b[39mb \u001b[39melse\u001b[39;00m b),\u001b[39mlist\u001b[39m( lst))\n\u001b[1;32m---> <a href='vscode-notebook-cell:/c%3A/Users/Silas/ITS%20Repo/ITS-1/Prog1/Blatt%2010%20SF.ipynb#W3sZmlsZQ%3D%3D?line=9'>10</a>\u001b[0m maxi([(\u001b[39m1\u001b[39;49m,\u001b[39m10\u001b[39;49m),(\u001b[39m'\u001b[39;49m\u001b[39ma\u001b[39;49m\u001b[39m'\u001b[39;49m,\u001b[39m'\u001b[39;49m\u001b[39mb\u001b[39;49m\u001b[39m'\u001b[39;49m),([\u001b[39m1\u001b[39;49m],[\u001b[39m2\u001b[39;49m])])\n",
      "\u001b[1;32mc:\\Users\\Silas\\ITS Repo\\ITS-1\\Prog1\\Blatt 10 SF.ipynb Zelle 2\u001b[0m in \u001b[0;36mmaxi\u001b[1;34m(lst)\u001b[0m\n\u001b[0;32m      <a href='vscode-notebook-cell:/c%3A/Users/Silas/ITS%20Repo/ITS-1/Prog1/Blatt%2010%20SF.ipynb#W3sZmlsZQ%3D%3D?line=4'>5</a>\u001b[0m     \u001b[39mif\u001b[39;00m \u001b[39mtype\u001b[39m(i)\u001b[39m==\u001b[39m\u001b[39mstr\u001b[39m:\n\u001b[0;32m      <a href='vscode-notebook-cell:/c%3A/Users/Silas/ITS%20Repo/ITS-1/Prog1/Blatt%2010%20SF.ipynb#W3sZmlsZQ%3D%3D?line=5'>6</a>\u001b[0m         lst\u001b[39m.\u001b[39mremove(i)\n\u001b[1;32m----> <a href='vscode-notebook-cell:/c%3A/Users/Silas/ITS%20Repo/ITS-1/Prog1/Blatt%2010%20SF.ipynb#W3sZmlsZQ%3D%3D?line=7'>8</a>\u001b[0m \u001b[39mprint\u001b[39m(functools\u001b[39m.\u001b[39;49mreduce(\u001b[39mlambda\u001b[39;49;00m a,b : a \u001b[39mif\u001b[39;49;00m a\u001b[39m>\u001b[39;49mb \u001b[39melse\u001b[39;49;00m b),\u001b[39mlist\u001b[39m( lst))\n",
      "\u001b[1;31mTypeError\u001b[0m: reduce expected at least 2 arguments, got 1"
     ]
    }
   ],
   "source": [
    "\n",
    "\n",
    "def maxi(lst):\n",
    "    lst=list(functools.reduce(lambda a,b : a+b,lst))\n",
    "    \n",
    "    for i in lst:\n",
    "        if type(i)==str:\n",
    "            lst.remove(i)\n",
    "        \n",
    "    print(functools.reduce(lambda a,b : a if a>b else b),list( lst))\n",
    "\n",
    "maxi([(1,10),('a','b'),([1],[2])])"
   ]
  }
 ],
 "metadata": {
  "kernelspec": {
   "display_name": "Python 3.9.12 ('base': conda)",
   "language": "python",
   "name": "python3"
  },
  "language_info": {
   "codemirror_mode": {
    "name": "ipython",
    "version": 3
   },
   "file_extension": ".py",
   "mimetype": "text/x-python",
   "name": "python",
   "nbconvert_exporter": "python",
   "pygments_lexer": "ipython3",
   "version": "3.9.12"
  },
  "orig_nbformat": 4,
  "vscode": {
   "interpreter": {
    "hash": "b6f36a5813acc247fd63ab7b974716ae81657c127576652ad3452f03cb7d7adf"
   }
  }
 },
 "nbformat": 4,
 "nbformat_minor": 2
}
