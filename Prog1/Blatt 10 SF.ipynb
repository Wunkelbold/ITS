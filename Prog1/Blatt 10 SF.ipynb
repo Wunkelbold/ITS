{
 "cells": [
  {
   "cell_type": "code",
   "execution_count": 43,
   "metadata": {},
   "outputs": [
    {
     "name": "stdout",
     "output_type": "stream",
     "text": [
      "[1, 10, 'a', 'b', [1], [2]]\n"
     ]
    }
   ],
   "source": [
    "#Aufgabe 10 a)\n",
    "import functools\n",
    "liste=[(1,10),('a','b'),([1],[2])]\n",
    "#output [1,10,'a','b',[1],[2]]\n",
    "\n",
    "\n",
    "print(list(functools.reduce(lambda a,b : a+b,liste)))\n"
   ]
  },
  {
   "cell_type": "code",
   "execution_count": null,
   "metadata": {},
   "outputs": [],
   "source": [
    "#Aufgabe 10 b)\n",
    "import functools\n",
    "liste=[(1,10),('a','b'),([1],[2])]\n",
    "def maxi(lst):\n",
    "    print(\"Verarbeite Liste: \",liste)\n",
    "    lst=list(functools.reduce(lambda a, b : a + b, liste)) #tupelliste kleinhacken\n",
    "    print(\"Tupel werden entfernt: \",lst)\n",
    "    #Check types of list entries\n",
    "    calculater=[] #list for valid and calculateable items\n",
    "    \n",
    "    for i in range(len(lst)):\n",
    "        if type(lst[i]) != int:\n",
    "            if type(lst[i])==list:\n",
    "                calculater.append(lst[i][0])\n",
    "                print(f\"Eintrag \\\"{lst[i]}\\\" wird zu \\\"{lst[i][0]}\\\" konvertiert.\")\n",
    "            if type(lst[i])==str:\n",
    "                print(f\"Eintrag \\'{lst[i]}\\' wird gelöscht.\")\n",
    "                pass\n",
    "        else: calculater.append(lst[i])\n",
    "    print(\"Der größte Eintrag der Liste ist:\",max(calculater))\n",
    "\n",
    "maxi([(1,10),('a','b'),([1,2],[2])])\n"
   ]
  },
  {
   "cell_type": "code",
   "execution_count": null,
   "metadata": {},
   "outputs": [],
   "source": [
    "#Aufgabe 10.0 c) ????????????????????????????????????"
   ]
  },
  {
   "cell_type": "code",
   "execution_count": 34,
   "metadata": {},
   "outputs": [
    {
     "data": {
      "text/plain": [
       "[61, 114, 82, 80, 57, 59, 25]"
      ]
     },
     "execution_count": 34,
     "metadata": {},
     "output_type": "execute_result"
    }
   ],
   "source": [
    "#Aufgabe 10.1 a)\n",
    "[len(line) for line in open(r\"C:\\Users\\Silas\\Desktop\\test.txt\").readlines()]\n"
   ]
  },
  {
   "cell_type": "code",
   "execution_count": 47,
   "metadata": {},
   "outputs": [
    {
     "data": {
      "text/plain": [
       "['Wir gehen davon aus, dass die in der folgenden Aufgabe durch\\n',\n",
       " 'den Leser zu definierenden Funktion eine als Zeichen reprsentierte hexadezimale Ziffer in den entsprechenden Wert\\n',\n",
       " 'umwandelt Die Listenkomprehension innerhalb der reduce\\x02Funktion erzeugt die Liste\\n']"
      ]
     },
     "execution_count": 47,
     "metadata": {},
     "output_type": "execute_result"
    }
   ],
   "source": [
    "# Aufgabe 10.1 b)\n",
    "[y for x,y in enumerate(open(r\"C:\\Users\\Silas\\Desktop\\test.txt\").readlines()) if x<3]"
   ]
  },
  {
   "cell_type": "code",
   "execution_count": 51,
   "metadata": {},
   "outputs": [
    {
     "data": {
      "text/plain": [
       "['\\nhcrud ebagfuA nedneglof red ni eid ssad ,sua novad neheg riW']"
      ]
     },
     "execution_count": 51,
     "metadata": {},
     "output_type": "execute_result"
    }
   ],
   "source": [
    "# Aufgabe 10.1 c)\n",
    "[y[::-1] for x,y in enumerate(open(r\"C:\\Users\\Silas\\Desktop\\test.txt\").readlines()) if x==0]"
   ]
  },
  {
   "cell_type": "code",
   "execution_count": 55,
   "metadata": {},
   "outputs": [
    {
     "data": {
      "text/plain": [
       "[3, 3, 9, 5, 6, 15, 15]"
      ]
     },
     "execution_count": 55,
     "metadata": {},
     "output_type": "execute_result"
    }
   ],
   "source": [
    "# Aufgabe 10.1 d)\n",
    "[len(line.split()[0]) for line in (open(r\"C:\\Users\\Silas\\Desktop\\test.txt\").readlines())]"
   ]
  },
  {
   "cell_type": "code",
   "execution_count": 64,
   "metadata": {},
   "outputs": [
    {
     "data": {
      "text/plain": [
       "['Alles nur ein test\\n', 'Alles nur ein Programm\\n']"
      ]
     },
     "execution_count": 64,
     "metadata": {},
     "output_type": "execute_result"
    }
   ],
   "source": [
    "# Aufgabe 10.1 e)\n",
    "[line for line in open(r\"C:\\Users\\Silas\\Desktop\\test.txt\").readlines() if line.startswith(\"A\")]"
   ]
  },
  {
   "cell_type": "code",
   "execution_count": 75,
   "metadata": {},
   "outputs": [
    {
     "data": {
      "text/plain": [
       "['Alles nur ein Programm Alt Alle Anderen Algerien Armee\\n']"
      ]
     },
     "execution_count": 75,
     "metadata": {},
     "output_type": "execute_result"
    }
   ],
   "source": [
    "# Aufgabe 10.1 f)\n",
    "[x for x in open(r\"C:\\Users\\Silas\\Desktop\\test.txt\").readlines() if 5<sum([1 for y in x.split() if y.startswith(\"A\")]) ]"
   ]
  },
  {
   "cell_type": "code",
   "execution_count": null,
   "metadata": {},
   "outputs": [],
   "source": [
    "# Aufgabe 10.1 g)  ??????????"
   ]
  },
  {
   "cell_type": "code",
   "execution_count": 81,
   "metadata": {},
   "outputs": [
    {
     "data": {
      "text/plain": [
       "[9]"
      ]
     },
     "execution_count": 81,
     "metadata": {},
     "output_type": "execute_result"
    }
   ],
   "source": [
    "# Aufgabe 10.1 h)\n",
    "[x for x,y in enumerate(open(r\"C:\\Users\\Silas\\Desktop\\test.txt\").readlines()) if \" \" not in y]"
   ]
  },
  {
   "cell_type": "code",
   "execution_count": 117,
   "metadata": {},
   "outputs": [
    {
     "data": {
      "text/plain": [
       "'den Leser zu definierenden Funktion eine als Zeichen reprsentierte hexadezimale Ziffer in den entsprechenden Wert\\n'"
      ]
     },
     "execution_count": 117,
     "metadata": {},
     "output_type": "execute_result"
    }
   ],
   "source": [
    "# Aufgabe 10.1 i)\n",
    "max([(x.count('a') + x.count('A') + x.count('e') + x.count('E') + x.count('i') + x.count('I') + x.count('o') + x.count('O') + x.count('u') + x.count('U') , i, x) for i,x in enumerate(open(r\"C:\\Users\\Silas\\Desktop\\test.txt\").readlines())])[2]"
   ]
  },
  {
   "cell_type": "code",
   "execution_count": null,
   "metadata": {},
   "outputs": [],
   "source": [
    "# Aufgabe 10.1 j)\n"
   ]
  },
  {
   "cell_type": "code",
   "execution_count": null,
   "metadata": {},
   "outputs": [],
   "source": [
    "# Aufgabe 10.1 k)\n",
    "[x[0]+x[1] for x in open(r\"C:\\Users\\Silas\\Desktop\\test.txt\").readlines()]"
   ]
  },
  {
   "cell_type": "code",
   "execution_count": null,
   "metadata": {},
   "outputs": [],
   "source": [
    "# Aufgabe 10.1 l)\n",
    "sum([1 for x in open(r\"C:\\Users\\Silas\\Desktop\\test.txt\").readlines() for y in x.split() if len(y)>10])"
   ]
  },
  {
   "cell_type": "code",
   "execution_count": null,
   "metadata": {},
   "outputs": [],
   "source": [
    "# Aufgabe 10.1 m) ??????????\n"
   ]
  },
  {
   "cell_type": "code",
   "execution_count": null,
   "metadata": {},
   "outputs": [],
   "source": [
    "# Aufgabe 10.1 n) ??????????"
   ]
  }
 ],
 "metadata": {
  "kernelspec": {
   "display_name": "Python 3.9.12 ('base': conda)",
   "language": "python",
   "name": "python3"
  },
  "language_info": {
   "codemirror_mode": {
    "name": "ipython",
    "version": 3
   },
   "file_extension": ".py",
   "mimetype": "text/x-python",
   "name": "python",
   "nbconvert_exporter": "python",
   "pygments_lexer": "ipython3",
   "version": "3.9.12"
  },
  "orig_nbformat": 4,
  "vscode": {
   "interpreter": {
    "hash": "b6f36a5813acc247fd63ab7b974716ae81657c127576652ad3452f03cb7d7adf"
   }
  }
 },
 "nbformat": 4,
 "nbformat_minor": 2
}
