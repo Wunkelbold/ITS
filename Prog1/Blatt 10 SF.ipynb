{
 "cells": [
  {
   "cell_type": "code",
   "execution_count": 43,
   "metadata": {},
   "outputs": [
    {
     "name": "stdout",
     "output_type": "stream",
     "text": [
      "[1, 10, 'a', 'b', [1], [2]]\n"
     ]
    }
   ],
   "source": [
    "#Aufgabe 10 a)\n",
    "import functools\n",
    "liste=[(1,10),('a','b'),([1],[2])]\n",
    "#output [1,10,'a','b',[1],[2]]\n",
    "\n",
    "\n",
    "print(list(functools.reduce(lambda a,b : a+b,liste)))\n"
   ]
  },
  {
   "cell_type": "code",
   "execution_count": null,
   "metadata": {},
   "outputs": [],
   "source": [
    "#Aufgabe 10 b)\n",
    "import functools\n",
    "liste=[(1,10),('a','b'),([1],[2])]\n",
    "def maxi(lst):\n",
    "    print(\"Verarbeite Liste: \",liste)\n",
    "    lst=list(functools.reduce(lambda a, b : a + b, liste)) #tupelliste kleinhacken\n",
    "    print(\"Tupel werden entfernt: \",lst)\n",
    "    #Check types of list entries\n",
    "    calculater=[] #list for valid and calculateable items\n",
    "    \n",
    "    for i in range(len(lst)):\n",
    "        if type(lst[i]) != int:\n",
    "            if type(lst[i])==list:\n",
    "                calculater.append(lst[i][0])\n",
    "                print(f\"Eintrag \\\"{lst[i]}\\\" wird zu \\\"{lst[i][0]}\\\" konvertiert.\")\n",
    "            if type(lst[i])==str:\n",
    "                print(f\"Eintrag \\'{lst[i]}\\' wird gelöscht.\")\n",
    "                pass\n",
    "        else: calculater.append(lst[i])\n",
    "    print(\"Der größte Eintrag der Liste ist:\",max(calculater))\n",
    "\n",
    "maxi([(1,10),('a','b'),([1,2],[2])])\n"
   ]
  },
  {
   "cell_type": "code",
   "execution_count": null,
   "metadata": {},
   "outputs": [],
   "source": [
    "#Aufgabe 10.0 c) ????????????????????????????????????"
   ]
  },
  {
   "cell_type": "code",
   "execution_count": null,
   "metadata": {},
   "outputs": [],
   "source": [
    "#Aufgabe 10.1 a)\n",
    "[len(line) for line in open(\"test.txt\",\"rt\").readline()]\n"
   ]
  },
  {
   "cell_type": "code",
   "execution_count": null,
   "metadata": {},
   "outputs": [],
   "source": [
    "# Aufgabe 10.1 b)\n",
    "[y for x,y in enumerate(open(\"test.txt\",\"rt\").readline()) if x<3]"
   ]
  },
  {
   "cell_type": "code",
   "execution_count": null,
   "metadata": {},
   "outputs": [],
   "source": [
    "# Aufgabe 10.1 c)\n",
    "[y[::-1] for x,y in enumerate(open(\"test.txt\",\"rt\").readline()) if x<3]"
   ]
  },
  {
   "cell_type": "code",
   "execution_count": null,
   "metadata": {},
   "outputs": [],
   "source": [
    "# Aufgabe 10.1 d)\n",
    "[len(line.split()) for line in (open(\"test.txt\",\"rt\").readline())]"
   ]
  },
  {
   "cell_type": "code",
   "execution_count": null,
   "metadata": {},
   "outputs": [],
   "source": [
    "# Aufgabe 10.1 e)\n",
    "[line for line in (open(\"test.txt\",\"rt\").readline()) if line.startswith(\"A\")]"
   ]
  },
  {
   "cell_type": "code",
   "execution_count": null,
   "metadata": {},
   "outputs": [],
   "source": [
    "# Aufgabe 10.1 f)\n",
    "[x for x in open(\"test.txt\",\"rt\").readline() if 6 < sum([1 for x in open(\"test.txt\",\"rt\").readline().split() if x.startswith(\"A\")])]"
   ]
  },
  {
   "cell_type": "code",
   "execution_count": null,
   "metadata": {},
   "outputs": [],
   "source": [
    "# Aufgabe 10.1 g)"
   ]
  }
 ],
 "metadata": {
  "kernelspec": {
   "display_name": "Python 3.9.12 ('base': conda)",
   "language": "python",
   "name": "python3"
  },
  "language_info": {
   "codemirror_mode": {
    "name": "ipython",
    "version": 3
   },
   "file_extension": ".py",
   "mimetype": "text/x-python",
   "name": "python",
   "nbconvert_exporter": "python",
   "pygments_lexer": "ipython3",
   "version": "3.9.12 (main, Apr  4 2022, 05:22:27) [MSC v.1916 64 bit (AMD64)]"
  },
  "orig_nbformat": 4,
  "vscode": {
   "interpreter": {
    "hash": "b6f36a5813acc247fd63ab7b974716ae81657c127576652ad3452f03cb7d7adf"
   }
  }
 },
 "nbformat": 4,
 "nbformat_minor": 2
}
