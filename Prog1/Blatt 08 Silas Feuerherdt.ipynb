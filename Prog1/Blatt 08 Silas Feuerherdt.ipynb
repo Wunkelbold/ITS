{
 "cells": [
  {
   "cell_type": "code",
   "execution_count": 29,
   "metadata": {},
   "outputs": [],
   "source": [
    "def isReflexive(grundMenge,relation):\n",
    "    return all([1 if (a,a) in relation else 0 for a in grundMenge])\n",
    "\n",
    "def isSymmetric(grundMenge,relation):\n",
    "    return all([1 if (a,b) in relation else 0 for a in grundMenge for b in grundMenge])\n",
    "\n",
    "#Weil isSymmetric mathematisch nicht korrekt ist / UNFERTIG\n",
    "def isEchtSymmetric(grundMenge,relation):\n",
    "    #filtern von a=b \n",
    "    tupel=[]\n",
    "    for i in grundMenge:\n",
    "        for k in grundMenge:\n",
    "            if i!=k:\n",
    "                tupel.append((i,k))\n",
    "            else: pass\n",
    "    return any([1 if wert in relation else 0 for wert in tupel])\n",
    "\n",
    "#UNFERTIG\n",
    "def isTransitiv(grundMenge,relation):\n",
    "    # grundMenge([1,2,3,4])\n",
    "    # relation([(1,2),(2,1),(2,2),(2,3),(1,3),(3,1),(1,1),(3,3),(3,2)])\n",
    "    #wenn 1,2 und 2,3 dann muss 1,3 drin sein\n",
    "    tupel=[]\n",
    "    for i in grundMenge:\n",
    "        for k in grundMenge:\n",
    "            if i!=k:\n",
    "                tupel.append((i,k))\n",
    "            else: pass\n",
    "    return any([1 if wert in relation else 0 for wert in tupel])\n",
    "    \n",
    "\n",
    "    \n"
   ]
  },
  {
   "cell_type": "code",
   "execution_count": 33,
   "metadata": {},
   "outputs": [
    {
     "data": {
      "text/plain": [
       "True"
      ]
     },
     "execution_count": 33,
     "metadata": {},
     "output_type": "execute_result"
    }
   ],
   "source": [
    "#isReflexive([1,2,3],[(1,2),(1,1),(2,2),(2,1),(1,3),(3,1),(2,3),(3,3)])\n",
    "#isReflexive([1,2,3],[(1,1),(2,2)])\n",
    "#isSymmetric([1,2],[(1,2),(2,1),(1,1),(2,2)])     \n",
    "#isSymmetric([1,2],[(1,2),(1,1),(2,2)])\n",
    "#isTransitiv([1,2,3,4],[(1,2),(2,1),(2,2),(2,3),(1,3),(3,1),(1,1),(3,3),(3,2)])\n",
    "isTransitiv([1,2,3],[(1,2),(2,3)])\n"
   ]
  },
  {
   "cell_type": "code",
   "execution_count": 18,
   "metadata": {},
   "outputs": [
    {
     "ename": "TypeError",
     "evalue": "unsupported operand type(s) for +: 'int' and 'str'",
     "output_type": "error",
     "traceback": [
      "\u001b[1;31m---------------------------------------------------------------------------\u001b[0m",
      "\u001b[1;31mTypeError\u001b[0m                                 Traceback (most recent call last)",
      "\u001b[1;32mc:\\Users\\Silas\\ITS\\ITS\\Prog1\\Blatt 08 Silas Feuerherdt.ipynb Zelle 3\u001b[0m in \u001b[0;36m<cell line: 8>\u001b[1;34m()\u001b[0m\n\u001b[0;32m      <a href='vscode-notebook-cell:/c%3A/Users/Silas/ITS/ITS/Prog1/Blatt%2008%20Silas%20Feuerherdt.ipynb#W2sZmlsZQ%3D%3D?line=5'>6</a>\u001b[0m [x \u001b[39mfor\u001b[39;00m x \u001b[39min\u001b[39;00m \u001b[39mrange\u001b[39m(\u001b[39m0\u001b[39m,\u001b[39m101\u001b[39m) \u001b[39mif\u001b[39;00m x\u001b[39m%\u001b[39m\u001b[39m11\u001b[39m\u001b[39m!=\u001b[39m\u001b[39m0\u001b[39m \u001b[39mand\u001b[39;00m x\u001b[39m%\u001b[39m\u001b[39m13\u001b[39m\u001b[39m!=\u001b[39m\u001b[39m0\u001b[39m]\n\u001b[0;32m      <a href='vscode-notebook-cell:/c%3A/Users/Silas/ITS/ITS/Prog1/Blatt%2008%20Silas%20Feuerherdt.ipynb#W2sZmlsZQ%3D%3D?line=6'>7</a>\u001b[0m \u001b[39m# d)\u001b[39;00m\n\u001b[1;32m----> <a href='vscode-notebook-cell:/c%3A/Users/Silas/ITS/ITS/Prog1/Blatt%2008%20Silas%20Feuerherdt.ipynb#W2sZmlsZQ%3D%3D?line=7'>8</a>\u001b[0m [x \u001b[39mfor\u001b[39;00m x \u001b[39min\u001b[39;00m \u001b[39mrange\u001b[39m(\u001b[39m1001\u001b[39m) \u001b[39mif\u001b[39;00m \u001b[39msum\u001b[39m(\u001b[39mlist\u001b[39m(\u001b[39mstr\u001b[39m(x)))\u001b[39m%\u001b[39m\u001b[39m7\u001b[39m\u001b[39m==\u001b[39m\u001b[39m0\u001b[39m]\n",
      "\u001b[1;32mc:\\Users\\Silas\\ITS\\ITS\\Prog1\\Blatt 08 Silas Feuerherdt.ipynb Zelle 3\u001b[0m in \u001b[0;36m<listcomp>\u001b[1;34m(.0)\u001b[0m\n\u001b[0;32m      <a href='vscode-notebook-cell:/c%3A/Users/Silas/ITS/ITS/Prog1/Blatt%2008%20Silas%20Feuerherdt.ipynb#W2sZmlsZQ%3D%3D?line=5'>6</a>\u001b[0m [x \u001b[39mfor\u001b[39;00m x \u001b[39min\u001b[39;00m \u001b[39mrange\u001b[39m(\u001b[39m0\u001b[39m,\u001b[39m101\u001b[39m) \u001b[39mif\u001b[39;00m x\u001b[39m%\u001b[39m\u001b[39m11\u001b[39m\u001b[39m!=\u001b[39m\u001b[39m0\u001b[39m \u001b[39mand\u001b[39;00m x\u001b[39m%\u001b[39m\u001b[39m13\u001b[39m\u001b[39m!=\u001b[39m\u001b[39m0\u001b[39m]\n\u001b[0;32m      <a href='vscode-notebook-cell:/c%3A/Users/Silas/ITS/ITS/Prog1/Blatt%2008%20Silas%20Feuerherdt.ipynb#W2sZmlsZQ%3D%3D?line=6'>7</a>\u001b[0m \u001b[39m# d)\u001b[39;00m\n\u001b[1;32m----> <a href='vscode-notebook-cell:/c%3A/Users/Silas/ITS/ITS/Prog1/Blatt%2008%20Silas%20Feuerherdt.ipynb#W2sZmlsZQ%3D%3D?line=7'>8</a>\u001b[0m [x \u001b[39mfor\u001b[39;00m x \u001b[39min\u001b[39;00m \u001b[39mrange\u001b[39m(\u001b[39m1001\u001b[39m) \u001b[39mif\u001b[39;00m \u001b[39msum\u001b[39;49m(\u001b[39mlist\u001b[39;49m(\u001b[39mstr\u001b[39;49m(x)))\u001b[39m%\u001b[39m\u001b[39m7\u001b[39m\u001b[39m==\u001b[39m\u001b[39m0\u001b[39m]\n",
      "\u001b[1;31mTypeError\u001b[0m: unsupported operand type(s) for +: 'int' and 'str'"
     ]
    }
   ],
   "source": [
    "#Aufgabe 8.1 a)\n",
    "sum([ x for x in range(0,101) if 1==1])\n",
    "# b)\n",
    "sum([ x for x in range(0,101) if x%3==0])\n",
    "# c)\n",
    "[x for x in range(0,101) if x%11!=0 and x%13!=0]\n",
    "# d)\n",
    "#UNFERTIG\n",
    "[x for x in range(1001) if list(str(x))]\n",
    "\n",
    "\n",
    "\n",
    "        "
   ]
  },
  {
   "cell_type": "code",
   "execution_count": 23,
   "metadata": {},
   "outputs": [
    {
     "ename": "TypeError",
     "evalue": "'int' object is not iterable",
     "output_type": "error",
     "traceback": [
      "\u001b[1;31m---------------------------------------------------------------------------\u001b[0m",
      "\u001b[1;31mTypeError\u001b[0m                                 Traceback (most recent call last)",
      "\u001b[1;32mc:\\Users\\Silas\\ITS\\ITS\\Prog1\\Blatt 08 Silas Feuerherdt.ipynb Zelle 4\u001b[0m in \u001b[0;36m<cell line: 1>\u001b[1;34m()\u001b[0m\n\u001b[1;32m----> <a href='vscode-notebook-cell:/c%3A/Users/Silas/ITS/ITS/Prog1/Blatt%2008%20Silas%20Feuerherdt.ipynb#W3sZmlsZQ%3D%3D?line=0'>1</a>\u001b[0m \u001b[39mlist\u001b[39;49m(\u001b[39mint\u001b[39;49m(\u001b[39mstr\u001b[39;49m(\u001b[39m1234\u001b[39;49m)))\n",
      "\u001b[1;31mTypeError\u001b[0m: 'int' object is not iterable"
     ]
    }
   ],
   "source": []
  }
 ],
 "metadata": {
  "kernelspec": {
   "display_name": "Python 3.9.12 ('base': conda)",
   "language": "python",
   "name": "python3"
  },
  "language_info": {
   "codemirror_mode": {
    "name": "ipython",
    "version": 3
   },
   "file_extension": ".py",
   "mimetype": "text/x-python",
   "name": "python",
   "nbconvert_exporter": "python",
   "pygments_lexer": "ipython3",
   "version": "3.9.12"
  },
  "orig_nbformat": 4,
  "vscode": {
   "interpreter": {
    "hash": "b6f36a5813acc247fd63ab7b974716ae81657c127576652ad3452f03cb7d7adf"
   }
  }
 },
 "nbformat": 4,
 "nbformat_minor": 2
}
