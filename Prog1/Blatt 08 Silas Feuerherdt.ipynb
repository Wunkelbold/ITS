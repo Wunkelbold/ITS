{
 "cells": [
  {
   "cell_type": "code",
   "execution_count": 24,
   "metadata": {},
   "outputs": [],
   "source": [
    "def isReflexive(grundMenge,relation):\n",
    "    return all([1 if (a,a) in relation else 0 for a in grundMenge])\n",
    "\n",
    "def isSymmetric(grundMenge,relation):\n",
    "    return all([1 if (a,b) in relation else 0 for a in grundMenge for b in grundMenge])\n",
    "\n",
    "\n",
    "def isTransitiv(grundMenge,relation):\n",
    "    return all([1 if wert in relation else 0 for wert in [(a,b) for a in grundMenge for b in grundMenge if a!=b]])\n",
    " "
   ]
  },
  {
   "cell_type": "code",
   "execution_count": 38,
   "metadata": {},
   "outputs": [
    {
     "data": {
      "text/plain": [
       "False"
      ]
     },
     "execution_count": 38,
     "metadata": {},
     "output_type": "execute_result"
    }
   ],
   "source": [
    "#isReflexive([1,2,3],[(1,2),(1,1),(2,2),(2,1),(1,3),(3,1),(2,3),(3,3)])\n",
    "#isReflexive([1,2,3],[(1,1),(2,2)])\n",
    "#isSymmetric([1,2],[(1,2),(2,1),(1,1),(2,2)])     \n",
    "#isSymmetric([1,2],[(1,2),(1,1),(2,2)])\n",
    "#isTransitiv([1,2,3],[(1,2),(2,1),(2,2),(2,3),(1,3),(3,1),(1,1),(3,3),(3,2)])\n",
    "#isTransitiv([1,2,3],[(1,2),(2,3)])\n"
   ]
  },
  {
   "cell_type": "code",
   "execution_count": null,
   "metadata": {},
   "outputs": [],
   "source": [
    "#Aufgabe 8.1 a)\n",
    "sum([ x for x in range(0,101) if 1==1])\n",
    "# b)\n",
    "sum([ x for x in range(0,101) if x%3==0])\n",
    "# c)\n",
    "[x for x in range(0,101) if x%11!=0 and x%13!=0]\n",
    "# d)\n",
    "[x for x in range(1001) if sum([int(y) for y in list(str(x))])%7==0]\n"
   ]
  }
 ],
 "metadata": {
  "kernelspec": {
   "display_name": "Python 3.9.12 ('base': conda)",
   "language": "python",
   "name": "python3"
  },
  "language_info": {
   "codemirror_mode": {
    "name": "ipython",
    "version": 3
   },
   "file_extension": ".py",
   "mimetype": "text/x-python",
   "name": "python",
   "nbconvert_exporter": "python",
   "pygments_lexer": "ipython3",
   "version": "3.9.12"
  },
  "orig_nbformat": 4,
  "vscode": {
   "interpreter": {
    "hash": "b6f36a5813acc247fd63ab7b974716ae81657c127576652ad3452f03cb7d7adf"
   }
  }
 },
 "nbformat": 4,
 "nbformat_minor": 2
}
