{
 "cells": [
  {
   "cell_type": "code",
   "execution_count": 32,
   "metadata": {},
   "outputs": [],
   "source": [
    "#Aufgabe 5.0\n",
    "\n",
    "class Person:\n",
    "    def __init__(self,vorname,nachname,alter,groeße):\n",
    "        self.vorname=vorname\n",
    "        self.nachname=nachname\n",
    "        self.alter=alter\n",
    "        self.groeße=groeße\n",
    "        self.schrumpfcounter=0\n",
    "        self.freundeListe=[]\n",
    "    def __repr__(self):\n",
    "        return self.vorname +\" \"+ self.nachname\n",
    "#5.0 b) \n",
    "    def werdeAelter(self):\n",
    "        self.alter +=1\n",
    "        self.schrumpfcounter +=1\n",
    "        if self.schrumpfcounter%10==0: self.groeße -= 1\n",
    "#5.0 c)\n",
    "    def isBaby(self):\n",
    "        if (self.alter < 2):\n",
    "            return f\"{self.vorname} ist ein Baby\"\n",
    "        else: print (\"Kein baby\")\n",
    "#5.0 d)\n",
    "    def neuerFreund(self,freund):\n",
    "        self.freundeListe.append(freund)\n",
    "#5.0 e) \n",
    "    def freunde(self):\n",
    "        if self.freundeListe==0:print (\"Er hat keine Freunde\")\n",
    "        else:return self.freundeListe\n",
    "#5.0 f)\n",
    "    def __getage__(self):\n",
    "        return(self.alter)\n",
    "\n",
    "    def aeltesterFreund(self):\n",
    "        aeltester=0\n",
    "        for i in range(0,len(self.freundeListe)):\n",
    "            \n",
    "            if(self.freundeListe[i].__getage__() > aeltester):\n",
    "               aeltester = self.freundeListe[i].__getage__()\n",
    "        return print (aeltester)\n",
    "       \n",
    "\n",
    "pers1=Person(\"Juergen\",\"Jung\",34,170)\n",
    "pers2=Person(\"Jochen\",\"Jong\",22,165)\n",
    "pers3=Person(\"Joachim\",\"Jang\",29,185)\n",
    "pers4=Person(\"Kevin\",\"Kohl\",1,35)\n",
    "\n",
    "\n",
    "\n"
   ]
  },
  {
   "cell_type": "code",
   "execution_count": 33,
   "metadata": {},
   "outputs": [],
   "source": [
    "pers1.neuerFreund(pers2) # d)\n",
    "pers1.neuerFreund(pers3) # d)\n",
    "\n",
    "#pers1.werdeAelter() # b)\n",
    "#pers1.isBaby() # c)\n",
    "#pers4.isBaby() # c)\n",
    "#pers4.freunde() # e)\n",
    "#pers1.aeltesterFreund() # f)\n",
    "\n",
    "\n"
   ]
  },
  {
   "cell_type": "code",
   "execution_count": 84,
   "metadata": {},
   "outputs": [],
   "source": [
    "#Aufgabe 5.1\n",
    "\n",
    "class Person:\n",
    "    def __init__(self,vorname,nachname,alter,bday):\n",
    "        self.vorname = vorname\n",
    "        self.nachname = nachname\n",
    "        self.alter = alter\n",
    "        self.bday = bday\n",
    "        \n",
    "class Prof(Person):\n",
    "    def __init__(self,vorname,nachname,alter,bday,Berufsgebiet,Eingruppierung):\n",
    "        super().__init__(vorname,nachname,alter,bday)\n",
    "        self.Berufsgebiet=Berufsgebiet\n",
    "        self.Eingruppierung=Eingruppierung\n",
    "\n",
    "class Stud(Person):\n",
    "    def __init__(self,vorname,nachname,alter,bday,matrikelNR,Semester,ECTS):\n",
    "        super().__init__(vorname,nachname,alter,bday)\n",
    "        self.matrikelNR=matrikelNR\n",
    "        self.Semester=Semester\n",
    "        self.ECTS=ECTS\n",
    "\n",
    "class Uni:\n",
    "    def __init__(self,name,ort):\n",
    "        self.name = name\n",
    "        self.ort = ort\n",
    "        self.personenListe=[]\n",
    "        self.studiengaenge=[]\n",
    "\n",
    "    def __addStudiengang__(self,studiengang):\n",
    "        self.studiengaenge.append(studiengang)\n",
    "\n",
    "class Studiengang:\n",
    "    def __init__(self,name,typ):\n",
    "        self.name = name\n",
    "        self.type = typ\n",
    "        self.profListe=[]\n",
    "        self.studListe=[]\n",
    "\n",
    "    def __addProf__(self,professor):\n",
    "        self.profListe.append(professor)\n",
    "\n",
    "    def __addStud__(self,student):\n",
    "        self.studListe.append(student)\n",
    "\n"
   ]
  },
  {
   "cell_type": "code",
   "execution_count": 90,
   "metadata": {},
   "outputs": [
    {
     "data": {
      "text/plain": [
       "__main__.Stud"
      ]
     },
     "execution_count": 90,
     "metadata": {},
     "output_type": "execute_result"
    }
   ],
   "source": [
    "Manuel = Stud(\"Manuel\",\"Schuttn\",27,\"01.01.01\",1234567,1,25)\n",
    "Guelord = Stud(\"Guelord\",\"Schuttn\",24,\"01.01.01\",876543,1,0)\n"
   ]
  },
  {
   "cell_type": "code",
   "execution_count": 64,
   "metadata": {},
   "outputs": [],
   "source": [
    "# Aufgabe 5.2 a)\n",
    "\n",
    "class MyComp12:\n",
    "    def __init__(self,realTeil,imaginaerTeil):\n",
    "        self.realTeil = realTeil\n",
    "        self.imaginaerTeil = imaginaerTeil\n",
    "\n",
    "    def __repr__(self):\n",
    "        return f\"{self.realTeil} + {self.imaginaerTeil}i\"\n",
    "\n",
    "# Aufgabe 5.2 b)\n",
    "\n",
    "    def __string__(self):\n",
    "        return f\"{self.realTeil} + {self.imaginaerTeil}i\"\n",
    "\n",
    "# Aufgabe 5.2 c)\n",
    "\n",
    "    def __add__(c1,c2):\n",
    "        return f\"{c1.realTeil+c2.realTeil} + {c1.imaginaerTeil+c2.imaginaerTeil}i\"\n",
    "\n",
    "# Aufgabe 5.2 d)\n",
    "\n",
    "    def __mul__(c1,c2):\n",
    "        # (re1 + im1 i) ( re2 + im2 i)\n",
    "        # re1re2 + im1re2i +re1im2i - im1im2\n",
    "        return f\"{c1.realTeil*c2.realTeil - c1.imaginaerTeil*c2.imaginaerTeil} + {c1.imaginaerTeil*c2.realTeil + c1.realTeil*c2.imaginaerTeil}i\"\n",
    "\n",
    "        \n",
    "\n",
    "\n",
    "\n",
    "\n",
    "\n",
    "\n",
    "\n",
    "   \n",
    "\n",
    "        \n",
    "        "
   ]
  },
  {
   "cell_type": "code",
   "execution_count": 65,
   "metadata": {},
   "outputs": [
    {
     "name": "stdout",
     "output_type": "stream",
     "text": [
      "1.0 + 2.0i\n"
     ]
    },
    {
     "data": {
      "text/plain": [
       "'-4.0 + 12.0i'"
      ]
     },
     "execution_count": 65,
     "metadata": {},
     "output_type": "execute_result"
    }
   ],
   "source": [
    "im2 = MyComp12(1.0,2.0)\n",
    "im1 = MyComp12(4.0,4.0)\n",
    "print(im)\n",
    "im2 + im1\n",
    "\n",
    "im1*im2"
   ]
  },
  {
   "cell_type": "code",
   "execution_count": null,
   "metadata": {},
   "outputs": [],
   "source": []
  }
 ],
 "metadata": {
  "kernelspec": {
   "display_name": "Python 3.9.12 ('base': conda)",
   "language": "python",
   "name": "python3"
  },
  "language_info": {
   "codemirror_mode": {
    "name": "ipython",
    "version": 3
   },
   "file_extension": ".py",
   "mimetype": "text/x-python",
   "name": "python",
   "nbconvert_exporter": "python",
   "pygments_lexer": "ipython3",
   "version": "3.9.12"
  },
  "orig_nbformat": 4,
  "vscode": {
   "interpreter": {
    "hash": "b6f36a5813acc247fd63ab7b974716ae81657c127576652ad3452f03cb7d7adf"
   }
  }
 },
 "nbformat": 4,
 "nbformat_minor": 2
}
