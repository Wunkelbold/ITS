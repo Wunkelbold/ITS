{
 "cells": [
  {
   "cell_type": "code",
   "execution_count": 8,
   "metadata": {},
   "outputs": [
    {
     "name": "stdout",
     "output_type": "stream",
     "text": [
      "Der Konstruktur wurde aufgerufen und ein Objekt von der Klasse Tier wurde erstellt.\n",
      "Der Konstruktur wurde aufgerufen und ein Objekt von der Klasse Tier wurde erstellt.\n",
      "Hase hatte Geburtstag\n"
     ]
    }
   ],
   "source": [
    "class Maulwurf(Tier):\n",
    "    def init(self,alter, gewicht):\n",
    "       super().init(\"Maulwurf\", alter, gewicht)\n",
    "    def graebt(self):\n",
    "        return \"Maulwurf graebt\"\n",
    "\n",
    "Mauli = Maulwurf(3,2)\n",
    "\n",
    "Mauli.isst()\n",
    "Mauli.bewegt_sich()\n",
    "\n",
    "class Tier:\n",
    "    def init(self, art, alter, gewicht):\n",
    "        print(\"Der Konstruktur wurde aufgerufen und ein Objekt von der Klasse Tier wurde erstellt.\")\n",
    "        self.art = art \n",
    "        self.alter = alter\n",
    "        self.gewicht = gewicht\n",
    "        self.hungrig = True\n",
    "        self.muede = False\n",
    "\n",
    "    def repr(self):\n",
    "        return f\"ich bin ein Tier von der Art {self.art}\"\n",
    "\n",
    "    def wird_aelter(self):\n",
    "        self.alter += 1\n",
    "        print(self.art,\"hatte Geburtstag\")\n",
    "\n",
    "    def isst(self):\n",
    "        if self.hungrig:\n",
    "            self.hungrig = False\n",
    "            return f\"{self.art} Hat gegessen.\"\n",
    "        else:\n",
    "            return f\"{self.art} hat keinen Hunger\"\n",
    "\n",
    "    def schlaeft(self):\n",
    "        if self.muede:\n",
    "            self.muede = False\n",
    "            return f\"{self.art} Hat geschlafen\"\n",
    "        else:\n",
    "            return f\"{self.art} Will nicht schlafen\"\n",
    "\n",
    "    def bewegt_sich(self):\n",
    "        if (not self.hungrig) and (not self.muede):\n",
    "            self.hungrig = True\n",
    "            self.muede = True\n",
    "            return f\"{self.art} hat sich bewegt - ist jetzt hungrig und muede\"\n",
    "        if self.hungrig or self.muede:\n",
    "            return f\"{self.art} will sich nicht bewegen - Hat Hunger\"\n",
    "\n",
    "    def kokst(self):\n",
    "        self.hungrig = False\n",
    "        self.muede = False\n",
    "        return f\"{self.art} ist hellwach\"\n",
    "\n",
    "    def add(self, anderesTier):\n",
    "        if self.art == anderesTier.art:\n",
    "\n",
    "            return \"Zuechtung erfolgreich\"\n",
    "        else:\n",
    "            return \"Nope\"\n",
    "\n",
    "Igel = Tier(\"Igel\",3,0.5)\n",
    "Hase = Tier(\"Hase\",9,4)\n",
    "Hase.isst()\n",
    "\n",
    "Igel.alter         # Attribut ohne  ()\n",
    "Hase.wird_aelter() # Methode mit    ()"
   ]
  }
 ],
 "metadata": {
  "kernelspec": {
   "display_name": "Python 3.9.12 ('base': conda)",
   "language": "python",
   "name": "python3"
  },
  "language_info": {
   "codemirror_mode": {
    "name": "ipython",
    "version": 3
   },
   "file_extension": ".py",
   "mimetype": "text/x-python",
   "name": "python",
   "nbconvert_exporter": "python",
   "pygments_lexer": "ipython3",
   "version": "3.9.12"
  },
  "orig_nbformat": 4,
  "vscode": {
   "interpreter": {
    "hash": "b6f36a5813acc247fd63ab7b974716ae81657c127576652ad3452f03cb7d7adf"
   }
  }
 },
 "nbformat": 4,
 "nbformat_minor": 2
}
